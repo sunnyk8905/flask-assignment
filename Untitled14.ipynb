{
 "cells": [
  {
   "cell_type": "code",
   "execution_count": null,
   "id": "509cabf5-39c4-448c-9180-2261a0f3d7ff",
   "metadata": {},
   "outputs": [],
   "source": [
    "Q1. What is MongoDB? Explain non-relational databases in short. In which scenarios it is preferred to use\n",
    "MongoDB over SQL databases?"
   ]
  },
  {
   "cell_type": "code",
   "execution_count": null,
   "id": "eb7bf1cb-1de9-42ff-b305-84f56bfe7bcc",
   "metadata": {},
   "outputs": [],
   "source": [
    "MongoDB is a document database used to build highly available and scalable internet applications.\n",
    "on-relational databases, also known as NoSQL databases, are designed to handle large volumes of unstructured or semi-structured data.\n",
    "MongoDB is often preferred over SQL databases in scenarios that require:Flexibility and scalability"
   ]
  },
  {
   "cell_type": "code",
   "execution_count": null,
   "id": "a8652648-9eb6-4c54-9c6d-7909e5583530",
   "metadata": {},
   "outputs": [],
   "source": [
    "Q2. State and Explain the features of MongoDB."
   ]
  },
  {
   "cell_type": "code",
   "execution_count": null,
   "id": "0f275360-8ecc-4189-8c28-7f6ac7dace93",
   "metadata": {},
   "outputs": [],
   "source": [
    "MongoDB offers several key features that make it a popular choice for many developers and organizations.\n",
    "Here are some of the notable features of MongoDB:"
   ]
  },
  {
   "cell_type": "code",
   "execution_count": null,
   "id": "1fc252b9-caf6-4076-85d5-b75478b34a6a",
   "metadata": {},
   "outputs": [],
   "source": [
    "Document-Oriented: MongoDB stores data in a flexible, JSON-like document format called BSON (Binary JSON). \n",
    "This document-oriented approach allows for the storage of complex and hierarchical data structures."
   ]
  },
  {
   "cell_type": "code",
   "execution_count": null,
   "id": "8e2716cb-c01a-4628-8152-ca46b39f12a0",
   "metadata": {},
   "outputs": [],
   "source": [
    "Flexible Schema: MongoDB is schema-less, which means that each document within a collection can have its own unique structure. "
   ]
  },
  {
   "cell_type": "code",
   "execution_count": null,
   "id": "b545ff8a-7691-4e0f-ac59-609ea4002d57",
   "metadata": {},
   "outputs": [],
   "source": [
    "Scalability and High Performance: MongoDB is designed to handle large volumes of data and scale horizontally across multiple servers."
   ]
  },
  {
   "cell_type": "code",
   "execution_count": null,
   "id": "0c0fcda3-bef1-4de8-b85f-8e15d9451492",
   "metadata": {},
   "outputs": [],
   "source": [
    "Q3. Write a code to connect MongoDB to Python. Also, create a database and a collection in MongoDB."
   ]
  },
  {
   "cell_type": "code",
   "execution_count": 1,
   "id": "0d82864e-0760-4df7-bbec-b0bb0ce7ad6d",
   "metadata": {},
   "outputs": [
    {
     "data": {
      "text/plain": [
       "'mongodb+srv://rk083099520:<password>@cluster0.ggckck7.mongodb.net/?retryWrites=true&w=majority'"
      ]
     },
     "execution_count": 1,
     "metadata": {},
     "output_type": "execute_result"
    }
   ],
   "source": [
    "import pymongo\n",
    "(\"mongodb+srv://rk083099520:<password>@cluster0.ggckck7.mongodb.net/?retryWrites=true&w=majority\")\n"
   ]
  },
  {
   "cell_type": "code",
   "execution_count": 2,
   "id": "65fc50c3-c302-45a9-9f58-947d3e3c2585",
   "metadata": {},
   "outputs": [],
   "source": [
    "clint='mongodb+srv://rk083099520:<password>@cluster0.ggckck7.mongodb.net/?retryWrites=true&w=majority'"
   ]
  },
  {
   "cell_type": "code",
   "execution_count": 6,
   "id": "e5dcd920-30a0-4081-82fc-5b7b49637ec7",
   "metadata": {},
   "outputs": [],
   "source": [
    "clint=(\"mongodb+srv://rk083099520:<password>@cluster0.ggckck7.mongodb.net/?retryWrites=true&w=majority\")"
   ]
  },
  {
   "cell_type": "code",
   "execution_count": 33,
   "id": "290ad8df-444c-4dc6-96e7-a8d15bd85876",
   "metadata": {},
   "outputs": [
    {
     "name": "stdout",
     "output_type": "stream",
     "text": [
      "Requirement already satisfied: pymongo in /opt/conda/lib/python3.10/site-packages (4.4.0)\n",
      "Requirement already satisfied: dnspython<3.0.0,>=1.16.0 in /opt/conda/lib/python3.10/site-packages (from pymongo) (2.3.0)\n",
      "Note: you may need to restart the kernel to use updated packages.\n"
     ]
    }
   ],
   "source": [
    "pip install pymongo"
   ]
  },
  {
   "cell_type": "code",
   "execution_count": 7,
   "id": "f9765599-b256-47f5-bf4b-5980c84f389d",
   "metadata": {},
   "outputs": [
    {
     "ename": "NameError",
     "evalue": "name 'client' is not defined",
     "output_type": "error",
     "traceback": [
      "\u001b[0;31m---------------------------------------------------------------------------\u001b[0m",
      "\u001b[0;31mNameError\u001b[0m                                 Traceback (most recent call last)",
      "Cell \u001b[0;32mIn[7], line 1\u001b[0m\n\u001b[0;32m----> 1\u001b[0m database \u001b[38;5;241m=\u001b[39m \u001b[43mclient\u001b[49m[\u001b[38;5;124m\"\u001b[39m\u001b[38;5;124mmydatabase\u001b[39m\u001b[38;5;124m\"\u001b[39m]\n",
      "\u001b[0;31mNameError\u001b[0m: name 'client' is not defined"
     ]
    }
   ],
   "source": [
    "database = client[\"mydatabase\"]"
   ]
  },
  {
   "cell_type": "code",
   "execution_count": 48,
   "id": "07de3236-bfe1-4ae5-8dc2-d15be9328f5e",
   "metadata": {},
   "outputs": [],
   "source": [
    "data={\"name\":\"sinu\",\n",
    "      \"class\":\"data science\"}\n",
    "      "
   ]
  },
  {
   "cell_type": "code",
   "execution_count": 49,
   "id": "fba3f28c-e4d5-414f-bc52-c3443befab84",
   "metadata": {},
   "outputs": [],
   "source": [
    "collection = database[\"mycollection\"]"
   ]
  },
  {
   "cell_type": "code",
   "execution_count": null,
   "id": "3d20a554-6d53-4e6f-afda-610f24a7bea7",
   "metadata": {},
   "outputs": [],
   "source": [
    "Q4. Using the database and the collection created in question number 3, write a code to insert one record,\n",
    "and insert many records. Use the find() and find_one() methods to print the inserted record."
   ]
  },
  {
   "cell_type": "code",
   "execution_count": 71,
   "id": "75901105-332e-42bd-92cc-2dce6263838c",
   "metadata": {},
   "outputs": [
    {
     "name": "stdout",
     "output_type": "stream",
     "text": [
      "Requirement already satisfied: pymongo in /opt/conda/lib/python3.10/site-packages (4.4.0)\n",
      "Requirement already satisfied: dnspython<3.0.0,>=1.16.0 in /opt/conda/lib/python3.10/site-packages (from pymongo) (2.3.0)\n",
      "Note: you may need to restart the kernel to use updated packages.\n"
     ]
    }
   ],
   "source": [
    "pip install pymongo"
   ]
  },
  {
   "cell_type": "code",
   "execution_count": 50,
   "id": "48aa2d0a-adc3-43c2-9551-06f7f1286688",
   "metadata": {},
   "outputs": [],
   "source": [
    "database = client[\"mydatabase\"]"
   ]
  },
  {
   "cell_type": "code",
   "execution_count": 51,
   "id": "4a6f2d28-9e9a-49f5-b817-cf18e7b83107",
   "metadata": {},
   "outputs": [],
   "source": [
    "data={\"name\":\"sinu\",\n",
    "      \"class\":\"data science\"}"
   ]
  },
  {
   "cell_type": "code",
   "execution_count": 60,
   "id": "c77f0511-0616-4361-95af-916b454de398",
   "metadata": {},
   "outputs": [],
   "source": [
    "Collection_mycollection = database[\"myrecord\"]"
   ]
  },
  {
   "cell_type": "code",
   "execution_count": 69,
   "id": "994b3e56-02ca-423e-aa9d-5dbfe0ba07c2",
   "metadata": {},
   "outputs": [
    {
     "data": {
      "text/plain": [
       "<pymongo.cursor.Cursor at 0x7fc5e8fafa00>"
      ]
     },
     "execution_count": 69,
     "metadata": {},
     "output_type": "execute_result"
    }
   ],
   "source": [
    "Collection_mycollection.find()"
   ]
  },
  {
   "cell_type": "code",
   "execution_count": null,
   "id": "5a3015bb-6f87-45e8-9a03-52e39a17b468",
   "metadata": {},
   "outputs": [],
   "source": [
    "Q5. Explain how you can use the find() method to query the MongoDB database. Write a simple code to\n",
    "demonstrate this."
   ]
  },
  {
   "cell_type": "code",
   "execution_count": null,
   "id": "922a3725-c03e-4804-b87d-1e739034b5cb",
   "metadata": {},
   "outputs": [],
   "source": [
    "In MongoDB, the find() method is used to query the database and retrieve documents\n",
    "that match a specified condition or criteria. It allows you to search for documents based on\n",
    "various parameters such as fields, values, or a combination of both."
   ]
  },
  {
   "cell_type": "code",
   "execution_count": null,
   "id": "61561609-062b-4f65-86b4-51d9b24ec9ed",
   "metadata": {},
   "outputs": [],
   "source": [
    "import pymongo\n",
    "\n",
    "\n",
    "client = MongoClient('mongodb://localhost:27017/')\n",
    "db = client['your_database_name']\n",
    "collection = db['your_collection_name']\n",
    "\n",
    "query = {\"field_name\": \"field_value\"}\n",
    "cursor = collection.find(query)\n",
    "\n",
    "for document in cursor:\n",
    "    print(document)\n",
    "client.close()\n"
   ]
  },
  {
   "cell_type": "code",
   "execution_count": null,
   "id": "1fb8a2ed-0056-4804-b29b-30a4282447f6",
   "metadata": {},
   "outputs": [],
   "source": [
    "Q6. Explain the sort() method. Give an example to demonstrate sorting in MongoDB."
   ]
  },
  {
   "cell_type": "code",
   "execution_count": null,
   "id": "d251fcbe-e428-41f2-a959-86850e5608ee",
   "metadata": {},
   "outputs": [],
   "source": [
    "The sort() method takes a document as an argument, where each field specifies the sorting order. \n",
    "It allows you to specify the sorting order as ascending or descending for each field."
   ]
  },
  {
   "cell_type": "code",
   "execution_count": null,
   "id": "8312aac4-9138-495a-95c5-859a266a26c3",
   "metadata": {},
   "outputs": [],
   "source": [
    "import pymongo\n",
    "\n",
    "client = MongoClient('mongodb://localhost:27017/')\n",
    "db = client['your_database_name']\n",
    "collection = db['your_collection_name']\n",
    "\n",
    "query = {}\n",
    "sorting = {\"age\": 1}  \n",
    "cursor = collection.find(query).sort(sorting)\n",
    "\n",
    "for document in cursor:\n",
    "    print(document)\n",
    "\n",
    "client.close()\n"
   ]
  },
  {
   "cell_type": "code",
   "execution_count": null,
   "id": "ba02ed7f-30d7-4755-9b33-226b00228393",
   "metadata": {},
   "outputs": [],
   "source": [
    "Q7. Explain why delete_one(), delete_many(), and drop() is used."
   ]
  },
  {
   "cell_type": "code",
   "execution_count": null,
   "id": "7510ef7d-97bf-4c65-8f32-3b5512167e43",
   "metadata": {},
   "outputs": [],
   "source": [
    "delete_one(filter):\n",
    "\n",
    "This method is used to delete a single document that matches the specified filter condition."
   ]
  },
  {
   "cell_type": "code",
   "execution_count": null,
   "id": "5b7d4594-93f0-4b42-bc27-07a22f9d1edb",
   "metadata": {},
   "outputs": [],
   "source": [
    "delete_many(filter):\n",
    "\n",
    "This method is used to delete multiple documents that match the specified filter condition."
   ]
  },
  {
   "cell_type": "code",
   "execution_count": null,
   "id": "1b85d115-349d-47dc-bc49-9bcff8c1c530",
   "metadata": {},
   "outputs": [],
   "source": [
    "drop():\n",
    "\n",
    "This method is used to remove an entire collection from the database."
   ]
  },
  {
   "cell_type": "code",
   "execution_count": null,
   "id": "560e8836-7c1e-46b1-a267-84bce7f55f30",
   "metadata": {},
   "outputs": [],
   "source": []
  }
 ],
 "metadata": {
  "kernelspec": {
   "display_name": "Python 3 (ipykernel)",
   "language": "python",
   "name": "python3"
  },
  "language_info": {
   "codemirror_mode": {
    "name": "ipython",
    "version": 3
   },
   "file_extension": ".py",
   "mimetype": "text/x-python",
   "name": "python",
   "nbconvert_exporter": "python",
   "pygments_lexer": "ipython3",
   "version": "3.10.8"
  }
 },
 "nbformat": 4,
 "nbformat_minor": 5
}
