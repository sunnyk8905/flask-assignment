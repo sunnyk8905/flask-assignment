{
 "cells": [
  {
   "cell_type": "code",
   "execution_count": null,
   "id": "f3f4854b-5257-43aa-b489-7e94a8748357",
   "metadata": {},
   "outputs": [],
   "source": [
    "Q1. What is an API? Give an example, where an API is used in real life."
   ]
  },
  {
   "cell_type": "code",
   "execution_count": null,
   "id": "ac091273-8805-4fec-aea1-79a3ef36d64f",
   "metadata": {},
   "outputs": [],
   "source": [
    "API stands for Application Programming Interface. \n",
    " It is a set of rules and protocols that allows different software applications to communicate and interact with each other. "
   ]
  },
  {
   "cell_type": "code",
   "execution_count": null,
   "id": "8c67d1ff-bcd4-41df-8226-f2de836bbd00",
   "metadata": {},
   "outputs": [],
   "source": [
    "One popular real-life example of API usage is the integration of online maps into various applications. "
   ]
  },
  {
   "cell_type": "code",
   "execution_count": null,
   "id": "18754dab-7222-44d8-9c20-d65979037225",
   "metadata": {},
   "outputs": [],
   "source": [
    "Q2. Give advantages and disadvantages of using API."
   ]
  },
  {
   "cell_type": "code",
   "execution_count": null,
   "id": "921366b1-3bb0-438b-8d60-aa09dc7027c9",
   "metadata": {},
   "outputs": [],
   "source": [
    "Advantages of using APIs:\n",
    "\n",
    "Modularity and Reusability,Simplified Integration,Encapsulation of Complexity."
   ]
  },
  {
   "cell_type": "code",
   "execution_count": null,
   "id": "af2b3c97-f57c-4fd2-a95a-b4af09e342ee",
   "metadata": {},
   "outputs": [],
   "source": [
    "Disadvantages of using APIs:\n",
    "\n",
    "Dependency on External Services,Lack of Control,Security and Privacy Concerns."
   ]
  },
  {
   "cell_type": "code",
   "execution_count": null,
   "id": "a1fe5d28-dc04-40ef-8f0d-f5459ae46ad7",
   "metadata": {},
   "outputs": [],
   "source": [
    "Q3. What is a Web API? Differentiate between API and Web API."
   ]
  },
  {
   "cell_type": "code",
   "execution_count": null,
   "id": "4c8733a4-3389-4a2f-9ebf-cb578fa40ac5",
   "metadata": {},
   "outputs": [],
   "source": [
    "A Web API (Application Programming Interface) is an API specifically designed for communication and interaction over the web using HTTP (Hypertext Transfer Protocol). It enables systems, applications, or services to exchange data and functionality over the internet."
   ]
  },
  {
   "cell_type": "code",
   "execution_count": null,
   "id": "c7106c27-516b-4e5c-8ff9-4e1f5356ce16",
   "metadata": {},
   "outputs": [],
   "source": [
    "API: API is a general term that encompasses any set of rules and protocols for software \n",
    "applications to communicate and interact with each other, regardless of the communication channel or technology used.\n"
   ]
  },
  {
   "cell_type": "code",
   "execution_count": null,
   "id": "c1c7cee5-24e2-4935-b7ed-1c52c231751e",
   "metadata": {},
   "outputs": [],
   "source": [
    "Web API: Web API specifically refers to APIs that are designed for web-based \n",
    "communication and follow the principles of web architecture, typically utilizing HTTP as the communication protocol."
   ]
  },
  {
   "cell_type": "code",
   "execution_count": null,
   "id": "bd66087a-23fd-436f-9505-4a40947d4617",
   "metadata": {},
   "outputs": [],
   "source": [
    "Q4. Explain REST and SOAP Architecture. Mention shortcomings of SOAP."
   ]
  },
  {
   "cell_type": "code",
   "execution_count": null,
   "id": "38bf517f-f78d-429a-95c5-306a6b0ce255",
   "metadata": {},
   "outputs": [],
   "source": [
    "REST is an architectural style that emphasizes the principles of simplicity, scalability, and statelessness.\n",
    "It is based on the concept of resources that are identified by unique URIs (Uniform Resource Identifiers).\n"
   ]
  },
  {
   "cell_type": "code",
   "execution_count": null,
   "id": "0789b35c-4fb4-46e5-91aa-f0d62e5f51af",
   "metadata": {},
   "outputs": [],
   "source": [
    "SOAP is a protocol that defines a standardized message format and communication model for web services.\n",
    "SOAP web services use XML (eXtensible Markup Language) for data representation and typically rely on the HTTP, SMTP, or\n",
    " other transport protocols for communication."
   ]
  },
  {
   "cell_type": "code",
   "execution_count": null,
   "id": "a8b00093-2c68-46d7-8207-b2e00e1e1060",
   "metadata": {},
   "outputs": [],
   "source": [
    "Q5. Differentiate between REST and SOAP."
   ]
  },
  {
   "cell_type": "code",
   "execution_count": null,
   "id": "33a183ce-cc5c-4f2a-89e8-87027efd216e",
   "metadata": {},
   "outputs": [],
   "source": [
    "REST: REST is an architectural style that emphasizes simplicity, scalability, and statelessness. \n",
    " It uses standard HTTP methods (GET, POST, PUT, DELETE) to perform CRUD (Create, Read, Update, Delete) operations on resources.\n",
    "   REST focuses on resource-oriented interactions and follows a lightweight, flexible approach.  "
   ]
  },
  {
   "cell_type": "code",
   "execution_count": null,
   "id": "b6535c22-b7d3-4e7c-a31d-efdd3fea8fcc",
   "metadata": {},
   "outputs": [],
   "source": [
    "SOAP: SOAP is a protocol that defines a standardized message format and communication model for web services. \n",
    " It focuses on formalized and structured interactions using XML-based messages.\n",
    "SOAP is more rigid and relies on a set of specifications for various functionalities like message format, error handling, and security."
   ]
  }
 ],
 "metadata": {
  "kernelspec": {
   "display_name": "Python 3 (ipykernel)",
   "language": "python",
   "name": "python3"
  },
  "language_info": {
   "codemirror_mode": {
    "name": "ipython",
    "version": 3
   },
   "file_extension": ".py",
   "mimetype": "text/x-python",
   "name": "python",
   "nbconvert_exporter": "python",
   "pygments_lexer": "ipython3",
   "version": "3.10.8"
  }
 },
 "nbformat": 4,
 "nbformat_minor": 5
}
